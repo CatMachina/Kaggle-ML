{
 "cells": [
  {
   "cell_type": "markdown",
   "id": "3d159ce4",
   "metadata": {
    "papermill": {
     "duration": 0.008509,
     "end_time": "2023-01-17T04:04:56.493336",
     "exception": false,
     "start_time": "2023-01-17T04:04:56.484827",
     "status": "completed"
    },
    "tags": []
   },
   "source": [
    "# Titanic Classification Problem\n",
    "\n",
    "The competition details and datasets can be found in https://www.kaggle.com/competitions/titanic/overview.\n",
    "\n",
    "Current score (accuracy): 0.75837\n",
    "\n",
    "Ranked: 11139"
   ]
  },
  {
   "cell_type": "code",
   "execution_count": 1,
   "id": "56a3b255",
   "metadata": {
    "_cell_guid": "b1076dfc-b9ad-4769-8c92-a6c4dae69d19",
    "_uuid": "8f2839f25d086af736a60e9eeb907d3b93b6e0e5",
    "execution": {
     "iopub.execute_input": "2023-01-17T04:04:56.510520Z",
     "iopub.status.busy": "2023-01-17T04:04:56.509387Z",
     "iopub.status.idle": "2023-01-17T04:04:57.741614Z",
     "shell.execute_reply": "2023-01-17T04:04:57.740347Z"
    },
    "papermill": {
     "duration": 1.244238,
     "end_time": "2023-01-17T04:04:57.744921",
     "exception": false,
     "start_time": "2023-01-17T04:04:56.500683",
     "status": "completed"
    },
    "tags": []
   },
   "outputs": [
    {
     "name": "stdout",
     "output_type": "stream",
     "text": [
      "/kaggle/input/titanic/train.csv\n",
      "/kaggle/input/titanic/test.csv\n",
      "/kaggle/input/titanic/gender_submission.csv\n"
     ]
    }
   ],
   "source": [
    "# This Python 3 environment comes with many helpful analytics libraries installed\n",
    "# It is defined by the kaggle/python Docker image: https://github.com/kaggle/docker-python\n",
    "# For example, here's several helpful packages to load\n",
    "\n",
    "import numpy as np # linear algebra\n",
    "import pandas as pd # data processing, CSV file I/O (e.g. pd.read_csv)\n",
    "from sklearn import linear_model\n",
    "from sklearn import preprocessing\n",
    "from sklearn.linear_model import LogisticRegression\n",
    "from sklearn.svm import SVC, LinearSVC\n",
    "from sklearn.neighbors import KNeighborsClassifier\n",
    "import matplotlib.pyplot as plt\n",
    "\n",
    "import os\n",
    "for dirname, _, filenames in os.walk('/kaggle/input'):\n",
    "    for filename in filenames:\n",
    "        print(os.path.join(dirname, filename))\n",
    "\n",
    "# You can write up to 20GB to the current directory (/kaggle/working/) that gets preserved as output when you create a version using \"Save & Run All\" \n",
    "# You can also write temporary files to /kaggle/temp/, but they won't be saved outside of the current session"
   ]
  },
  {
   "cell_type": "code",
   "execution_count": 2,
   "id": "7b35e6f1",
   "metadata": {
    "execution": {
     "iopub.execute_input": "2023-01-17T04:04:57.761610Z",
     "iopub.status.busy": "2023-01-17T04:04:57.761199Z",
     "iopub.status.idle": "2023-01-17T04:04:57.792637Z",
     "shell.execute_reply": "2023-01-17T04:04:57.791762Z"
    },
    "papermill": {
     "duration": 0.042971,
     "end_time": "2023-01-17T04:04:57.795154",
     "exception": false,
     "start_time": "2023-01-17T04:04:57.752183",
     "status": "completed"
    },
    "tags": []
   },
   "outputs": [],
   "source": [
    "train_df_original = pd.read_csv(\"../input/titanic/train.csv\")\n",
    "test_df_original = pd.read_csv(\"../input/titanic/test.csv\")"
   ]
  },
  {
   "cell_type": "code",
   "execution_count": 3,
   "id": "7d83f1ce",
   "metadata": {
    "execution": {
     "iopub.execute_input": "2023-01-17T04:04:57.812523Z",
     "iopub.status.busy": "2023-01-17T04:04:57.811344Z",
     "iopub.status.idle": "2023-01-17T04:04:57.836777Z",
     "shell.execute_reply": "2023-01-17T04:04:57.835910Z"
    },
    "papermill": {
     "duration": 0.036291,
     "end_time": "2023-01-17T04:04:57.838847",
     "exception": false,
     "start_time": "2023-01-17T04:04:57.802556",
     "status": "completed"
    },
    "tags": []
   },
   "outputs": [
    {
     "data": {
      "text/html": [
       "<div>\n",
       "<style scoped>\n",
       "    .dataframe tbody tr th:only-of-type {\n",
       "        vertical-align: middle;\n",
       "    }\n",
       "\n",
       "    .dataframe tbody tr th {\n",
       "        vertical-align: top;\n",
       "    }\n",
       "\n",
       "    .dataframe thead th {\n",
       "        text-align: right;\n",
       "    }\n",
       "</style>\n",
       "<table border=\"1\" class=\"dataframe\">\n",
       "  <thead>\n",
       "    <tr style=\"text-align: right;\">\n",
       "      <th></th>\n",
       "      <th>PassengerId</th>\n",
       "      <th>Survived</th>\n",
       "      <th>Pclass</th>\n",
       "      <th>Name</th>\n",
       "      <th>Sex</th>\n",
       "      <th>Age</th>\n",
       "      <th>SibSp</th>\n",
       "      <th>Parch</th>\n",
       "      <th>Ticket</th>\n",
       "      <th>Fare</th>\n",
       "      <th>Cabin</th>\n",
       "      <th>Embarked</th>\n",
       "    </tr>\n",
       "  </thead>\n",
       "  <tbody>\n",
       "    <tr>\n",
       "      <th>0</th>\n",
       "      <td>1</td>\n",
       "      <td>0</td>\n",
       "      <td>3</td>\n",
       "      <td>Braund, Mr. Owen Harris</td>\n",
       "      <td>male</td>\n",
       "      <td>22.0</td>\n",
       "      <td>1</td>\n",
       "      <td>0</td>\n",
       "      <td>A/5 21171</td>\n",
       "      <td>7.2500</td>\n",
       "      <td>NaN</td>\n",
       "      <td>S</td>\n",
       "    </tr>\n",
       "    <tr>\n",
       "      <th>1</th>\n",
       "      <td>2</td>\n",
       "      <td>1</td>\n",
       "      <td>1</td>\n",
       "      <td>Cumings, Mrs. John Bradley (Florence Briggs Th...</td>\n",
       "      <td>female</td>\n",
       "      <td>38.0</td>\n",
       "      <td>1</td>\n",
       "      <td>0</td>\n",
       "      <td>PC 17599</td>\n",
       "      <td>71.2833</td>\n",
       "      <td>C85</td>\n",
       "      <td>C</td>\n",
       "    </tr>\n",
       "    <tr>\n",
       "      <th>2</th>\n",
       "      <td>3</td>\n",
       "      <td>1</td>\n",
       "      <td>3</td>\n",
       "      <td>Heikkinen, Miss. Laina</td>\n",
       "      <td>female</td>\n",
       "      <td>26.0</td>\n",
       "      <td>0</td>\n",
       "      <td>0</td>\n",
       "      <td>STON/O2. 3101282</td>\n",
       "      <td>7.9250</td>\n",
       "      <td>NaN</td>\n",
       "      <td>S</td>\n",
       "    </tr>\n",
       "    <tr>\n",
       "      <th>3</th>\n",
       "      <td>4</td>\n",
       "      <td>1</td>\n",
       "      <td>1</td>\n",
       "      <td>Futrelle, Mrs. Jacques Heath (Lily May Peel)</td>\n",
       "      <td>female</td>\n",
       "      <td>35.0</td>\n",
       "      <td>1</td>\n",
       "      <td>0</td>\n",
       "      <td>113803</td>\n",
       "      <td>53.1000</td>\n",
       "      <td>C123</td>\n",
       "      <td>S</td>\n",
       "    </tr>\n",
       "    <tr>\n",
       "      <th>4</th>\n",
       "      <td>5</td>\n",
       "      <td>0</td>\n",
       "      <td>3</td>\n",
       "      <td>Allen, Mr. William Henry</td>\n",
       "      <td>male</td>\n",
       "      <td>35.0</td>\n",
       "      <td>0</td>\n",
       "      <td>0</td>\n",
       "      <td>373450</td>\n",
       "      <td>8.0500</td>\n",
       "      <td>NaN</td>\n",
       "      <td>S</td>\n",
       "    </tr>\n",
       "  </tbody>\n",
       "</table>\n",
       "</div>"
      ],
      "text/plain": [
       "   PassengerId  Survived  Pclass  \\\n",
       "0            1         0       3   \n",
       "1            2         1       1   \n",
       "2            3         1       3   \n",
       "3            4         1       1   \n",
       "4            5         0       3   \n",
       "\n",
       "                                                Name     Sex   Age  SibSp  \\\n",
       "0                            Braund, Mr. Owen Harris    male  22.0      1   \n",
       "1  Cumings, Mrs. John Bradley (Florence Briggs Th...  female  38.0      1   \n",
       "2                             Heikkinen, Miss. Laina  female  26.0      0   \n",
       "3       Futrelle, Mrs. Jacques Heath (Lily May Peel)  female  35.0      1   \n",
       "4                           Allen, Mr. William Henry    male  35.0      0   \n",
       "\n",
       "   Parch            Ticket     Fare Cabin Embarked  \n",
       "0      0         A/5 21171   7.2500   NaN        S  \n",
       "1      0          PC 17599  71.2833   C85        C  \n",
       "2      0  STON/O2. 3101282   7.9250   NaN        S  \n",
       "3      0            113803  53.1000  C123        S  \n",
       "4      0            373450   8.0500   NaN        S  "
      ]
     },
     "execution_count": 3,
     "metadata": {},
     "output_type": "execute_result"
    }
   ],
   "source": [
    "train_df = train_df_original.copy()\n",
    "test_df = test_df_original.copy()\n",
    "# get example table of data\n",
    "train_df.head()"
   ]
  },
  {
   "cell_type": "code",
   "execution_count": 4,
   "id": "63beeb14",
   "metadata": {
    "execution": {
     "iopub.execute_input": "2023-01-17T04:04:57.856168Z",
     "iopub.status.busy": "2023-01-17T04:04:57.855080Z",
     "iopub.status.idle": "2023-01-17T04:04:57.867756Z",
     "shell.execute_reply": "2023-01-17T04:04:57.866559Z"
    },
    "papermill": {
     "duration": 0.023722,
     "end_time": "2023-01-17T04:04:57.870141",
     "exception": false,
     "start_time": "2023-01-17T04:04:57.846419",
     "status": "completed"
    },
    "tags": []
   },
   "outputs": [
    {
     "data": {
      "text/plain": [
       "PassengerId    891\n",
       "Survived       891\n",
       "Pclass         891\n",
       "Name           891\n",
       "Sex            891\n",
       "Age            714\n",
       "SibSp          891\n",
       "Parch          891\n",
       "Ticket         891\n",
       "Fare           891\n",
       "Cabin          204\n",
       "Embarked       889\n",
       "dtype: int64"
      ]
     },
     "execution_count": 4,
     "metadata": {},
     "output_type": "execute_result"
    }
   ],
   "source": [
    "# check for missing info\n",
    "train_df.count()"
   ]
  },
  {
   "cell_type": "code",
   "execution_count": 5,
   "id": "1cf6362b",
   "metadata": {
    "execution": {
     "iopub.execute_input": "2023-01-17T04:04:57.889021Z",
     "iopub.status.busy": "2023-01-17T04:04:57.888609Z",
     "iopub.status.idle": "2023-01-17T04:04:57.905879Z",
     "shell.execute_reply": "2023-01-17T04:04:57.904606Z"
    },
    "papermill": {
     "duration": 0.030178,
     "end_time": "2023-01-17T04:04:57.908221",
     "exception": false,
     "start_time": "2023-01-17T04:04:57.878043",
     "status": "completed"
    },
    "tags": []
   },
   "outputs": [],
   "source": [
    "# drop columns with lots of missing info and remove instances with missing info\n",
    "train_df = train_df.drop('Cabin', axis=1)\n",
    "test_df = test_df.drop('Cabin', axis=1)\n",
    "train_df = train_df[train_df.Age.notnull()]\n",
    "train_df = train_df[train_df.Embarked.notnull()]\n",
    "# will remove age instances since 714 is still quite substantial compared to the original 891 entries"
   ]
  },
  {
   "cell_type": "code",
   "execution_count": 6,
   "id": "0458062a",
   "metadata": {
    "execution": {
     "iopub.execute_input": "2023-01-17T04:04:57.925137Z",
     "iopub.status.busy": "2023-01-17T04:04:57.924724Z",
     "iopub.status.idle": "2023-01-17T04:04:57.935796Z",
     "shell.execute_reply": "2023-01-17T04:04:57.934777Z"
    },
    "papermill": {
     "duration": 0.021888,
     "end_time": "2023-01-17T04:04:57.937736",
     "exception": false,
     "start_time": "2023-01-17T04:04:57.915848",
     "status": "completed"
    },
    "tags": []
   },
   "outputs": [
    {
     "data": {
      "text/plain": [
       "PassengerId    712\n",
       "Survived       712\n",
       "Pclass         712\n",
       "Name           712\n",
       "Sex            712\n",
       "Age            712\n",
       "SibSp          712\n",
       "Parch          712\n",
       "Ticket         712\n",
       "Fare           712\n",
       "Embarked       712\n",
       "dtype: int64"
      ]
     },
     "execution_count": 6,
     "metadata": {},
     "output_type": "execute_result"
    }
   ],
   "source": [
    "# sanity check instances\n",
    "train_df.count()"
   ]
  },
  {
   "cell_type": "code",
   "execution_count": 7,
   "id": "7fd7659a",
   "metadata": {
    "execution": {
     "iopub.execute_input": "2023-01-17T04:04:57.954767Z",
     "iopub.status.busy": "2023-01-17T04:04:57.954379Z",
     "iopub.status.idle": "2023-01-17T04:04:57.966792Z",
     "shell.execute_reply": "2023-01-17T04:04:57.965999Z"
    },
    "papermill": {
     "duration": 0.023374,
     "end_time": "2023-01-17T04:04:57.968812",
     "exception": false,
     "start_time": "2023-01-17T04:04:57.945438",
     "status": "completed"
    },
    "tags": []
   },
   "outputs": [],
   "source": [
    "# should have 714 from ages, -2 more from embarked, correct amounts! \n",
    "# seems like instances with missing data did not have more than 1 feature missing\n",
    "# delete features that do not contribute much to the model\n",
    "# passengerId is unique to each passenger = useless\n",
    "train_df = train_df.drop('PassengerId', axis=1)\n",
    "# ticket is unique, and doesn't help since we have passenger class and fare as more useful info\n",
    "train_df = train_df.drop('Ticket', axis=1)\n",
    "test_df = test_df.drop('Ticket', axis=1)\n",
    "# name is also pretty unique and we can't gleam much useful information from it. Family relations are defined in different columns\n",
    "# seems to have people with different titles, e.g. Rev., Master, Col., etc, however seems more work than its worth\n",
    "# investigate later!\n",
    "train_df = train_df.drop('Name', axis=1)\n",
    "test_df = test_df.drop('Name', axis=1)\n",
    "# embarked does not seem useful since it doesn't matter who came from where, will come back to this if model needs some tweaking\n",
    "train_df = train_df.drop('Embarked', axis=1)\n",
    "test_df = test_df.drop('Embarked', axis=1)"
   ]
  },
  {
   "cell_type": "code",
   "execution_count": 8,
   "id": "88f3c849",
   "metadata": {
    "execution": {
     "iopub.execute_input": "2023-01-17T04:04:57.985857Z",
     "iopub.status.busy": "2023-01-17T04:04:57.985482Z",
     "iopub.status.idle": "2023-01-17T04:04:57.995070Z",
     "shell.execute_reply": "2023-01-17T04:04:57.993924Z"
    },
    "papermill": {
     "duration": 0.020857,
     "end_time": "2023-01-17T04:04:57.997346",
     "exception": false,
     "start_time": "2023-01-17T04:04:57.976489",
     "status": "completed"
    },
    "tags": []
   },
   "outputs": [
    {
     "data": {
      "text/plain": [
       "Survived    712\n",
       "Pclass      712\n",
       "Sex         712\n",
       "Age         712\n",
       "SibSp       712\n",
       "Parch       712\n",
       "Fare        712\n",
       "dtype: int64"
      ]
     },
     "execution_count": 8,
     "metadata": {},
     "output_type": "execute_result"
    }
   ],
   "source": [
    "# check new data\n",
    "train_df.count()"
   ]
  },
  {
   "cell_type": "code",
   "execution_count": 9,
   "id": "aed05f08",
   "metadata": {
    "execution": {
     "iopub.execute_input": "2023-01-17T04:04:58.015432Z",
     "iopub.status.busy": "2023-01-17T04:04:58.014522Z",
     "iopub.status.idle": "2023-01-17T04:05:00.913015Z",
     "shell.execute_reply": "2023-01-17T04:05:00.911779Z"
    },
    "papermill": {
     "duration": 2.911564,
     "end_time": "2023-01-17T04:05:00.916898",
     "exception": false,
     "start_time": "2023-01-17T04:04:58.005334",
     "status": "completed"
    },
    "tags": []
   },
   "outputs": [
    {
     "name": "stdout",
     "output_type": "stream",
     "text": [
      "          Survived    Pclass       Age     SibSp     Parch      Fare\n",
      "Survived  1.000000 -0.356462 -0.082446 -0.015523  0.095265  0.266100\n",
      "Pclass   -0.356462  1.000000 -0.365902  0.065187  0.023666 -0.552893\n",
      "Age      -0.082446 -0.365902  1.000000 -0.307351 -0.187896  0.093143\n",
      "SibSp    -0.015523  0.065187 -0.307351  1.000000  0.383338  0.139860\n",
      "Parch     0.095265  0.023666 -0.187896  0.383338  1.000000  0.206624\n",
      "Fare      0.266100 -0.552893  0.093143  0.139860  0.206624  1.000000\n"
     ]
    },
    {
     "data": {
      "image/png": "[encoded data removed]",
      "text/plain": [
       "<Figure size 1440x1440 with 36 Axes>"
      ]
     },
     "metadata": {
      "needs_background": "light"
     },
     "output_type": "display_data"
    }
   ],
   "source": [
    "# columns look good\n",
    "# see histograms and scatterplots of columns\n",
    "pd.plotting.scatter_matrix(train_df, figsize=(20,20))\n",
    "print(train_df.corr())"
   ]
  },
  {
   "cell_type": "code",
   "execution_count": 10,
   "id": "6c044ad0",
   "metadata": {
    "execution": {
     "iopub.execute_input": "2023-01-17T04:05:00.939770Z",
     "iopub.status.busy": "2023-01-17T04:05:00.939360Z",
     "iopub.status.idle": "2023-01-17T04:05:01.122157Z",
     "shell.execute_reply": "2023-01-17T04:05:01.121053Z"
    },
    "papermill": {
     "duration": 0.19755,
     "end_time": "2023-01-17T04:05:01.124868",
     "exception": false,
     "start_time": "2023-01-17T04:05:00.927318",
     "status": "completed"
    },
    "tags": []
   },
   "outputs": [
    {
     "data": {
      "text/plain": [
       "count    712.000000\n",
       "mean      34.567251\n",
       "std       52.938648\n",
       "min        0.000000\n",
       "25%        8.050000\n",
       "50%       15.645850\n",
       "75%       33.000000\n",
       "max      512.329200\n",
       "Name: Fare, dtype: float64"
      ]
     },
     "execution_count": 10,
     "metadata": {},
     "output_type": "execute_result"
    },
    {
     "data": {
      "image/png": "[encoded data removed]",
      "text/plain": [
       "<Figure size 432x288 with 1 Axes>"
      ]
     },
     "metadata": {
      "needs_background": "light"
     },
     "output_type": "display_data"
    }
   ],
   "source": [
    "train_df.hist(column=\"Fare\")\n",
    "train_df[\"Fare\"].describe()"
   ]
  },
  {
   "cell_type": "code",
   "execution_count": 11,
   "id": "a8aed6af",
   "metadata": {
    "execution": {
     "iopub.execute_input": "2023-01-17T04:05:01.147525Z",
     "iopub.status.busy": "2023-01-17T04:05:01.147141Z",
     "iopub.status.idle": "2023-01-17T04:05:01.155531Z",
     "shell.execute_reply": "2023-01-17T04:05:01.154409Z"
    },
    "papermill": {
     "duration": 0.023033,
     "end_time": "2023-01-17T04:05:01.158547",
     "exception": false,
     "start_time": "2023-01-17T04:05:01.135514",
     "status": "completed"
    },
    "tags": []
   },
   "outputs": [
    {
     "name": "stdout",
     "output_type": "stream",
     "text": [
      "48\n",
      "27\n",
      "18\n"
     ]
    }
   ],
   "source": [
    "# Maybe bucket this later, or reduce the scale 100x similar to parch and sibsp\n",
    "print(len(train_df[train_df[\"Fare\"] > 100.0]))\n",
    "print(len(train_df[train_df[\"Fare\"] > 150.0]))\n",
    "print(len(train_df[train_df[\"Fare\"] > 200.0]))"
   ]
  },
  {
   "cell_type": "code",
   "execution_count": 12,
   "id": "03d076d7",
   "metadata": {
    "execution": {
     "iopub.execute_input": "2023-01-17T04:05:01.181282Z",
     "iopub.status.busy": "2023-01-17T04:05:01.180890Z",
     "iopub.status.idle": "2023-01-17T04:05:01.358167Z",
     "shell.execute_reply": "2023-01-17T04:05:01.356931Z"
    },
    "papermill": {
     "duration": 0.191453,
     "end_time": "2023-01-17T04:05:01.360645",
     "exception": false,
     "start_time": "2023-01-17T04:05:01.169192",
     "status": "completed"
    },
    "tags": []
   },
   "outputs": [
    {
     "data": {
      "text/plain": [
       "count    712.000000\n",
       "mean       0.432584\n",
       "std        0.854181\n",
       "min        0.000000\n",
       "25%        0.000000\n",
       "50%        0.000000\n",
       "75%        1.000000\n",
       "max        6.000000\n",
       "Name: Parch, dtype: float64"
      ]
     },
     "execution_count": 12,
     "metadata": {},
     "output_type": "execute_result"
    },
    {
     "data": {
      "image/png": "[encoded data removed]",
      "text/plain": [
       "<Figure size 432x288 with 1 Axes>"
      ]
     },
     "metadata": {
      "needs_background": "light"
     },
     "output_type": "display_data"
    }
   ],
   "source": [
    "train_df.hist(column=\"Parch\")\n",
    "train_df[\"Parch\"].describe()\n",
    "# Also maybe bucket this later"
   ]
  },
  {
   "cell_type": "code",
   "execution_count": 13,
   "id": "1d6648c3",
   "metadata": {
    "execution": {
     "iopub.execute_input": "2023-01-17T04:05:01.384440Z",
     "iopub.status.busy": "2023-01-17T04:05:01.384054Z",
     "iopub.status.idle": "2023-01-17T04:05:01.544748Z",
     "shell.execute_reply": "2023-01-17T04:05:01.543893Z"
    },
    "papermill": {
     "duration": 0.175279,
     "end_time": "2023-01-17T04:05:01.546935",
     "exception": false,
     "start_time": "2023-01-17T04:05:01.371656",
     "status": "completed"
    },
    "tags": []
   },
   "outputs": [
    {
     "data": {
      "text/plain": [
       "count    712.000000\n",
       "mean       0.514045\n",
       "std        0.930692\n",
       "min        0.000000\n",
       "25%        0.000000\n",
       "50%        0.000000\n",
       "75%        1.000000\n",
       "max        5.000000\n",
       "Name: SibSp, dtype: float64"
      ]
     },
     "execution_count": 13,
     "metadata": {},
     "output_type": "execute_result"
    },
    {
     "data": {
      "image/png": "[encoded data removed]",
      "text/plain": [
       "<Figure size 432x288 with 1 Axes>"
      ]
     },
     "metadata": {
      "needs_background": "light"
     },
     "output_type": "display_data"
    }
   ],
   "source": [
    "train_df.hist(column=\"SibSp\")\n",
    "train_df[\"SibSp\"].describe()\n",
    "# Also maybe bucket this later"
   ]
  },
  {
   "cell_type": "code",
   "execution_count": 14,
   "id": "2a1eec9e",
   "metadata": {
    "execution": {
     "iopub.execute_input": "2023-01-17T04:05:01.571612Z",
     "iopub.status.busy": "2023-01-17T04:05:01.571228Z",
     "iopub.status.idle": "2023-01-17T04:05:01.766082Z",
     "shell.execute_reply": "2023-01-17T04:05:01.764903Z"
    },
    "papermill": {
     "duration": 0.209998,
     "end_time": "2023-01-17T04:05:01.768456",
     "exception": false,
     "start_time": "2023-01-17T04:05:01.558458",
     "status": "completed"
    },
    "tags": []
   },
   "outputs": [
    {
     "data": {
      "text/plain": [
       "count    712.000000\n",
       "mean      29.642093\n",
       "std       14.492933\n",
       "min        0.420000\n",
       "25%       20.000000\n",
       "50%       28.000000\n",
       "75%       38.000000\n",
       "max       80.000000\n",
       "Name: Age, dtype: float64"
      ]
     },
     "execution_count": 14,
     "metadata": {},
     "output_type": "execute_result"
    },
    {
     "data": {
      "image/png": "[encoded data removed]",
      "text/plain": [
       "<Figure size 432x288 with 1 Axes>"
      ]
     },
     "metadata": {
      "needs_background": "light"
     },
     "output_type": "display_data"
    }
   ],
   "source": [
    "train_df.hist(column=\"Age\")\n",
    "train_df[\"Age\"].describe()\n",
    "# Probably should bucket this"
   ]
  },
  {
   "cell_type": "code",
   "execution_count": 15,
   "id": "476609de",
   "metadata": {
    "execution": {
     "iopub.execute_input": "2023-01-17T04:05:01.793467Z",
     "iopub.status.busy": "2023-01-17T04:05:01.792739Z",
     "iopub.status.idle": "2023-01-17T04:05:01.992542Z",
     "shell.execute_reply": "2023-01-17T04:05:01.991369Z"
    },
    "papermill": {
     "duration": 0.215082,
     "end_time": "2023-01-17T04:05:01.994952",
     "exception": false,
     "start_time": "2023-01-17T04:05:01.779870",
     "status": "completed"
    },
    "tags": []
   },
   "outputs": [
    {
     "data": {
      "text/plain": [
       "count    712.000000\n",
       "mean       2.240169\n",
       "std        0.836854\n",
       "min        1.000000\n",
       "25%        1.000000\n",
       "50%        2.000000\n",
       "75%        3.000000\n",
       "max        3.000000\n",
       "Name: Pclass, dtype: float64"
      ]
     },
     "execution_count": 15,
     "metadata": {},
     "output_type": "execute_result"
    },
    {
     "data": {
      "image/png": "[encoded data removed]",
      "text/plain": [
       "<Figure size 432x288 with 1 Axes>"
      ]
     },
     "metadata": {
      "needs_background": "light"
     },
     "output_type": "display_data"
    }
   ],
   "source": [
    "train_df.hist(column=\"Pclass\")\n",
    "train_df[\"Pclass\"].describe()\n",
    "# Already in \"buckets\", but maybe one-hot vector this"
   ]
  },
  {
   "cell_type": "markdown",
   "id": "52ccc4fa",
   "metadata": {
    "papermill": {
     "duration": 0.011456,
     "end_time": "2023-01-17T04:05:02.018218",
     "exception": false,
     "start_time": "2023-01-17T04:05:02.006762",
     "status": "completed"
    },
    "tags": []
   },
   "source": [
    "## Training model"
   ]
  },
  {
   "cell_type": "code",
   "execution_count": 16,
   "id": "fb8b94ab",
   "metadata": {
    "execution": {
     "iopub.execute_input": "2023-01-17T04:05:02.043935Z",
     "iopub.status.busy": "2023-01-17T04:05:02.043138Z",
     "iopub.status.idle": "2023-01-17T04:05:02.063331Z",
     "shell.execute_reply": "2023-01-17T04:05:02.062203Z"
    },
    "papermill": {
     "duration": 0.03598,
     "end_time": "2023-01-17T04:05:02.065805",
     "exception": false,
     "start_time": "2023-01-17T04:05:02.029825",
     "status": "completed"
    },
    "tags": []
   },
   "outputs": [
    {
     "data": {
      "text/html": [
       "<div>\n",
       "<style scoped>\n",
       "    .dataframe tbody tr th:only-of-type {\n",
       "        vertical-align: middle;\n",
       "    }\n",
       "\n",
       "    .dataframe tbody tr th {\n",
       "        vertical-align: top;\n",
       "    }\n",
       "\n",
       "    .dataframe thead th {\n",
       "        text-align: right;\n",
       "    }\n",
       "</style>\n",
       "<table border=\"1\" class=\"dataframe\">\n",
       "  <thead>\n",
       "    <tr style=\"text-align: right;\">\n",
       "      <th></th>\n",
       "      <th>Survived</th>\n",
       "      <th>Pclass</th>\n",
       "      <th>Sex</th>\n",
       "      <th>Age</th>\n",
       "      <th>SibSp</th>\n",
       "      <th>Parch</th>\n",
       "      <th>Fare</th>\n",
       "    </tr>\n",
       "  </thead>\n",
       "  <tbody>\n",
       "    <tr>\n",
       "      <th>231</th>\n",
       "      <td>0</td>\n",
       "      <td>3</td>\n",
       "      <td>male</td>\n",
       "      <td>29.0</td>\n",
       "      <td>0</td>\n",
       "      <td>0</td>\n",
       "      <td>7.7750</td>\n",
       "    </tr>\n",
       "    <tr>\n",
       "      <th>172</th>\n",
       "      <td>1</td>\n",
       "      <td>3</td>\n",
       "      <td>female</td>\n",
       "      <td>1.0</td>\n",
       "      <td>1</td>\n",
       "      <td>1</td>\n",
       "      <td>11.1333</td>\n",
       "    </tr>\n",
       "    <tr>\n",
       "      <th>817</th>\n",
       "      <td>0</td>\n",
       "      <td>2</td>\n",
       "      <td>male</td>\n",
       "      <td>31.0</td>\n",
       "      <td>1</td>\n",
       "      <td>1</td>\n",
       "      <td>37.0042</td>\n",
       "    </tr>\n",
       "    <tr>\n",
       "      <th>285</th>\n",
       "      <td>0</td>\n",
       "      <td>3</td>\n",
       "      <td>male</td>\n",
       "      <td>33.0</td>\n",
       "      <td>0</td>\n",
       "      <td>0</td>\n",
       "      <td>8.6625</td>\n",
       "    </tr>\n",
       "    <tr>\n",
       "      <th>515</th>\n",
       "      <td>0</td>\n",
       "      <td>1</td>\n",
       "      <td>male</td>\n",
       "      <td>47.0</td>\n",
       "      <td>0</td>\n",
       "      <td>0</td>\n",
       "      <td>34.0208</td>\n",
       "    </tr>\n",
       "    <tr>\n",
       "      <th>...</th>\n",
       "      <td>...</td>\n",
       "      <td>...</td>\n",
       "      <td>...</td>\n",
       "      <td>...</td>\n",
       "      <td>...</td>\n",
       "      <td>...</td>\n",
       "      <td>...</td>\n",
       "    </tr>\n",
       "    <tr>\n",
       "      <th>665</th>\n",
       "      <td>0</td>\n",
       "      <td>2</td>\n",
       "      <td>male</td>\n",
       "      <td>32.0</td>\n",
       "      <td>2</td>\n",
       "      <td>0</td>\n",
       "      <td>73.5000</td>\n",
       "    </tr>\n",
       "    <tr>\n",
       "      <th>731</th>\n",
       "      <td>0</td>\n",
       "      <td>3</td>\n",
       "      <td>male</td>\n",
       "      <td>11.0</td>\n",
       "      <td>0</td>\n",
       "      <td>0</td>\n",
       "      <td>18.7875</td>\n",
       "    </tr>\n",
       "    <tr>\n",
       "      <th>175</th>\n",
       "      <td>0</td>\n",
       "      <td>3</td>\n",
       "      <td>male</td>\n",
       "      <td>18.0</td>\n",
       "      <td>1</td>\n",
       "      <td>1</td>\n",
       "      <td>7.8542</td>\n",
       "    </tr>\n",
       "    <tr>\n",
       "      <th>616</th>\n",
       "      <td>0</td>\n",
       "      <td>3</td>\n",
       "      <td>male</td>\n",
       "      <td>34.0</td>\n",
       "      <td>1</td>\n",
       "      <td>1</td>\n",
       "      <td>14.4000</td>\n",
       "    </tr>\n",
       "    <tr>\n",
       "      <th>382</th>\n",
       "      <td>0</td>\n",
       "      <td>3</td>\n",
       "      <td>male</td>\n",
       "      <td>32.0</td>\n",
       "      <td>0</td>\n",
       "      <td>0</td>\n",
       "      <td>7.9250</td>\n",
       "    </tr>\n",
       "  </tbody>\n",
       "</table>\n",
       "<p>712 rows × 7 columns</p>\n",
       "</div>"
      ],
      "text/plain": [
       "     Survived  Pclass     Sex   Age  SibSp  Parch     Fare\n",
       "231         0       3    male  29.0      0      0   7.7750\n",
       "172         1       3  female   1.0      1      1  11.1333\n",
       "817         0       2    male  31.0      1      1  37.0042\n",
       "285         0       3    male  33.0      0      0   8.6625\n",
       "515         0       1    male  47.0      0      0  34.0208\n",
       "..        ...     ...     ...   ...    ...    ...      ...\n",
       "665         0       2    male  32.0      2      0  73.5000\n",
       "731         0       3    male  11.0      0      0  18.7875\n",
       "175         0       3    male  18.0      1      1   7.8542\n",
       "616         0       3    male  34.0      1      1  14.4000\n",
       "382         0       3    male  32.0      0      0   7.9250\n",
       "\n",
       "[712 rows x 7 columns]"
      ]
     },
     "execution_count": 16,
     "metadata": {},
     "output_type": "execute_result"
    }
   ],
   "source": [
    "# Drop survived column from training features\n",
    "# Also shuffle data\n",
    "train_df.drop(\"Survived\", axis=1)\n",
    "train_df.reindex(np.random.permutation(train_df.index))"
   ]
  },
  {
   "cell_type": "markdown",
   "id": "476a2658",
   "metadata": {
    "papermill": {
     "duration": 0.011926,
     "end_time": "2023-01-17T04:05:02.089835",
     "exception": false,
     "start_time": "2023-01-17T04:05:02.077909",
     "status": "completed"
    },
    "tags": []
   },
   "source": [
    "## Data prep"
   ]
  },
  {
   "cell_type": "markdown",
   "id": "45a8384f",
   "metadata": {
    "papermill": {
     "duration": 0.011569,
     "end_time": "2023-01-17T04:05:02.113401",
     "exception": false,
     "start_time": "2023-01-17T04:05:02.101832",
     "status": "completed"
    },
    "tags": []
   },
   "source": [
    "### Iteration 1, no data prep"
   ]
  },
  {
   "cell_type": "code",
   "execution_count": 17,
   "id": "e3db075a",
   "metadata": {
    "execution": {
     "iopub.execute_input": "2023-01-17T04:05:02.139734Z",
     "iopub.status.busy": "2023-01-17T04:05:02.138612Z",
     "iopub.status.idle": "2023-01-17T04:05:02.152395Z",
     "shell.execute_reply": "2023-01-17T04:05:02.151494Z"
    },
    "papermill": {
     "duration": 0.029334,
     "end_time": "2023-01-17T04:05:02.154765",
     "exception": false,
     "start_time": "2023-01-17T04:05:02.125431",
     "status": "completed"
    },
    "tags": []
   },
   "outputs": [],
   "source": [
    "# Iteration 1\n",
    "# build a non-bucketized classification model first\n",
    "# Columns:\n",
    "# Pclass\n",
    "# Sex\n",
    "# Age\n",
    "# SibSp\n",
    "# Parch\n",
    "# Fare\n",
    "train_df_1 = train_df.copy()\n",
    "test_df_1 = test_df.copy()\n",
    "\n",
    "genders = {\"male\": 0, \"female\": 1}\n",
    "data = [train_df_1, test_df_1]\n",
    "\n",
    "for dataset in data:\n",
    "    dataset['Sex'] = dataset['Sex'].map(genders)\n",
    "\n",
    "# convert floating data to ints and scale it reasonably\n",
    "for dataset in data:\n",
    "    dataset['Fare'] = dataset['Fare'].fillna(0)\n",
    "    dataset['Fare'] = (dataset['Fare'] / 100).astype(int)\n",
    "    \n",
    "for dataset in data:\n",
    "    dataset['Age'] = dataset['Age'].fillna(0)\n",
    "    dataset['Age'] = (dataset['Age'] / 100).astype(int)"
   ]
  },
  {
   "cell_type": "code",
   "execution_count": 18,
   "id": "491cea64",
   "metadata": {
    "execution": {
     "iopub.execute_input": "2023-01-17T04:05:02.180942Z",
     "iopub.status.busy": "2023-01-17T04:05:02.180083Z",
     "iopub.status.idle": "2023-01-17T04:05:02.291424Z",
     "shell.execute_reply": "2023-01-17T04:05:02.289993Z"
    },
    "papermill": {
     "duration": 0.12754,
     "end_time": "2023-01-17T04:05:02.294234",
     "exception": false,
     "start_time": "2023-01-17T04:05:02.166694",
     "status": "completed"
    },
    "tags": []
   },
   "outputs": [
    {
     "name": "stderr",
     "output_type": "stream",
     "text": [
      "/opt/conda/lib/python3.7/site-packages/sklearn/svm/_base.py:1208: ConvergenceWarning: Liblinear failed to converge, increase the number of iterations.\n",
      "  ConvergenceWarning,\n"
     ]
    }
   ],
   "source": [
    "X_train = train_df_1.drop(\"Survived\", axis=1)\n",
    "Y_train = train_df_1[\"Survived\"]\n",
    "X_test  = test_df_1.drop(\"PassengerId\", axis=1).copy()\n",
    "\n",
    "logreg = LogisticRegression()\n",
    "logreg.fit(X_train, Y_train)\n",
    "\n",
    "Y_pred_logreg_1 = logreg.predict(X_test)\n",
    "\n",
    "acc_log = round(logreg.score(X_train, Y_train) * 100, 2)\n",
    "\n",
    "# KNN\n",
    "knn = KNeighborsClassifier(n_neighbors = 3)\n",
    "knn.fit(X_train, Y_train)\n",
    "\n",
    "Y_pred_knn_1 = knn.predict(X_test)\n",
    "acc_knn = round(knn.score(X_train, Y_train) * 100, 2)\n",
    "\n",
    "linear_svc = LinearSVC()\n",
    "linear_svc.fit(X_train, Y_train)\n",
    "\n",
    "Y_pred_svc_1 = linear_svc.predict(X_test)\n",
    "\n",
    "acc_linear_svc = round(linear_svc.score(X_train, Y_train) * 100, 2)"
   ]
  },
  {
   "cell_type": "code",
   "execution_count": 19,
   "id": "49e18cf5",
   "metadata": {
    "execution": {
     "iopub.execute_input": "2023-01-17T04:05:02.321181Z",
     "iopub.status.busy": "2023-01-17T04:05:02.320744Z",
     "iopub.status.idle": "2023-01-17T04:05:02.334815Z",
     "shell.execute_reply": "2023-01-17T04:05:02.333694Z"
    },
    "papermill": {
     "duration": 0.02996,
     "end_time": "2023-01-17T04:05:02.337159",
     "exception": false,
     "start_time": "2023-01-17T04:05:02.307199",
     "status": "completed"
    },
    "tags": []
   },
   "outputs": [
    {
     "data": {
      "text/html": [
       "<div>\n",
       "<style scoped>\n",
       "    .dataframe tbody tr th:only-of-type {\n",
       "        vertical-align: middle;\n",
       "    }\n",
       "\n",
       "    .dataframe tbody tr th {\n",
       "        vertical-align: top;\n",
       "    }\n",
       "\n",
       "    .dataframe thead th {\n",
       "        text-align: right;\n",
       "    }\n",
       "</style>\n",
       "<table border=\"1\" class=\"dataframe\">\n",
       "  <thead>\n",
       "    <tr style=\"text-align: right;\">\n",
       "      <th></th>\n",
       "      <th>Model</th>\n",
       "    </tr>\n",
       "    <tr>\n",
       "      <th>Score</th>\n",
       "      <th></th>\n",
       "    </tr>\n",
       "  </thead>\n",
       "  <tbody>\n",
       "    <tr>\n",
       "      <th>78.93</th>\n",
       "      <td>KNN</td>\n",
       "    </tr>\n",
       "    <tr>\n",
       "      <th>78.65</th>\n",
       "      <td>Logistic Regression</td>\n",
       "    </tr>\n",
       "    <tr>\n",
       "      <th>78.37</th>\n",
       "      <td>Support Vector Machine</td>\n",
       "    </tr>\n",
       "  </tbody>\n",
       "</table>\n",
       "</div>"
      ],
      "text/plain": [
       "                        Model\n",
       "Score                        \n",
       "78.93                     KNN\n",
       "78.65     Logistic Regression\n",
       "78.37  Support Vector Machine"
      ]
     },
     "execution_count": 19,
     "metadata": {},
     "output_type": "execute_result"
    }
   ],
   "source": [
    "results = pd.DataFrame({\n",
    "    'Model': ['Logistic Regression', 'Support Vector Machine', 'KNN'],\n",
    "    'Score': [acc_log, acc_linear_svc, acc_knn]})\n",
    "result_df = results.sort_values(by='Score', ascending=False)\n",
    "result_df = result_df.set_index('Score')\n",
    "result_df.head()"
   ]
  },
  {
   "cell_type": "markdown",
   "id": "287963b2",
   "metadata": {
    "papermill": {
     "duration": 0.011886,
     "end_time": "2023-01-17T04:05:02.361284",
     "exception": false,
     "start_time": "2023-01-17T04:05:02.349398",
     "status": "completed"
    },
    "tags": []
   },
   "source": [
    "## Iteration 2, bucket columns"
   ]
  },
  {
   "cell_type": "code",
   "execution_count": 20,
   "id": "6cefde87",
   "metadata": {
    "execution": {
     "iopub.execute_input": "2023-01-17T04:05:02.387160Z",
     "iopub.status.busy": "2023-01-17T04:05:02.386776Z",
     "iopub.status.idle": "2023-01-17T04:05:02.416786Z",
     "shell.execute_reply": "2023-01-17T04:05:02.415606Z"
    },
    "papermill": {
     "duration": 0.045818,
     "end_time": "2023-01-17T04:05:02.419140",
     "exception": false,
     "start_time": "2023-01-17T04:05:02.373322",
     "status": "completed"
    },
    "tags": []
   },
   "outputs": [
    {
     "data": {
      "text/html": [
       "<div>\n",
       "<style scoped>\n",
       "    .dataframe tbody tr th:only-of-type {\n",
       "        vertical-align: middle;\n",
       "    }\n",
       "\n",
       "    .dataframe tbody tr th {\n",
       "        vertical-align: top;\n",
       "    }\n",
       "\n",
       "    .dataframe thead th {\n",
       "        text-align: right;\n",
       "    }\n",
       "</style>\n",
       "<table border=\"1\" class=\"dataframe\">\n",
       "  <thead>\n",
       "    <tr style=\"text-align: right;\">\n",
       "      <th></th>\n",
       "      <th>Survived</th>\n",
       "      <th>Pclass</th>\n",
       "      <th>Sex</th>\n",
       "      <th>Age</th>\n",
       "      <th>SibSp</th>\n",
       "      <th>Parch</th>\n",
       "      <th>Fare</th>\n",
       "    </tr>\n",
       "  </thead>\n",
       "  <tbody>\n",
       "    <tr>\n",
       "      <th>0</th>\n",
       "      <td>0</td>\n",
       "      <td>3</td>\n",
       "      <td>0</td>\n",
       "      <td>2</td>\n",
       "      <td>1</td>\n",
       "      <td>0</td>\n",
       "      <td>0</td>\n",
       "    </tr>\n",
       "    <tr>\n",
       "      <th>1</th>\n",
       "      <td>1</td>\n",
       "      <td>1</td>\n",
       "      <td>1</td>\n",
       "      <td>3</td>\n",
       "      <td>1</td>\n",
       "      <td>0</td>\n",
       "      <td>4</td>\n",
       "    </tr>\n",
       "    <tr>\n",
       "      <th>2</th>\n",
       "      <td>1</td>\n",
       "      <td>3</td>\n",
       "      <td>1</td>\n",
       "      <td>2</td>\n",
       "      <td>0</td>\n",
       "      <td>0</td>\n",
       "      <td>1</td>\n",
       "    </tr>\n",
       "    <tr>\n",
       "      <th>3</th>\n",
       "      <td>1</td>\n",
       "      <td>1</td>\n",
       "      <td>1</td>\n",
       "      <td>3</td>\n",
       "      <td>1</td>\n",
       "      <td>0</td>\n",
       "      <td>4</td>\n",
       "    </tr>\n",
       "    <tr>\n",
       "      <th>4</th>\n",
       "      <td>0</td>\n",
       "      <td>3</td>\n",
       "      <td>0</td>\n",
       "      <td>3</td>\n",
       "      <td>0</td>\n",
       "      <td>0</td>\n",
       "      <td>1</td>\n",
       "    </tr>\n",
       "  </tbody>\n",
       "</table>\n",
       "</div>"
      ],
      "text/plain": [
       "   Survived  Pclass  Sex Age  SibSp  Parch Fare\n",
       "0         0       3    0   2      1      0    0\n",
       "1         1       1    1   3      1      0    4\n",
       "2         1       3    1   2      0      0    1\n",
       "3         1       1    1   3      1      0    4\n",
       "4         0       3    0   3      0      0    1"
      ]
     },
     "execution_count": 20,
     "metadata": {},
     "output_type": "execute_result"
    }
   ],
   "source": [
    "# Iteration 2\n",
    "# bucket columns by quadrants, around 5 max\n",
    "# Columns:\n",
    "# Pclass\n",
    "# Sex\n",
    "# Age\n",
    "# SibSp\n",
    "# Parch\n",
    "# Fare\n",
    "train_df_2 = train_df.copy()\n",
    "test_df_2 = test_df.copy()\n",
    "\n",
    "genders = {\"male\": 0, \"female\": 1}\n",
    "data = [train_df_2, test_df_2]\n",
    "\n",
    "for dataset in data:\n",
    "    dataset['Sex'] = dataset['Sex'].map(genders)\n",
    "\n",
    "# convert floating data to ints and scale it reasonably\n",
    "for dataset in data:\n",
    "    dataset['Fare'] = dataset['Fare'].fillna(0)\n",
    "    dataset['Fare'] = pd.qcut(dataset['Fare'], q=5, labels=[0,1,2,3,4])\n",
    "    \n",
    "for dataset in data:\n",
    "    dataset['Age'] = dataset['Age'].fillna(0)\n",
    "    dataset['Age'] = pd.cut(dataset['Age'], bins=[-1, 0, 21, 27, 39, 100], labels=[0, 1, 2, 3, 4], retbins=False)\n",
    "train_df_2.head()"
   ]
  },
  {
   "cell_type": "code",
   "execution_count": 21,
   "id": "057f5854",
   "metadata": {
    "execution": {
     "iopub.execute_input": "2023-01-17T04:05:02.445925Z",
     "iopub.status.busy": "2023-01-17T04:05:02.445520Z",
     "iopub.status.idle": "2023-01-17T04:05:02.552016Z",
     "shell.execute_reply": "2023-01-17T04:05:02.550844Z"
    },
    "papermill": {
     "duration": 0.123025,
     "end_time": "2023-01-17T04:05:02.554589",
     "exception": false,
     "start_time": "2023-01-17T04:05:02.431564",
     "status": "completed"
    },
    "tags": []
   },
   "outputs": [
    {
     "name": "stderr",
     "output_type": "stream",
     "text": [
      "/opt/conda/lib/python3.7/site-packages/sklearn/svm/_base.py:1208: ConvergenceWarning: Liblinear failed to converge, increase the number of iterations.\n",
      "  ConvergenceWarning,\n"
     ]
    }
   ],
   "source": [
    "X_train = train_df_2.drop(\"Survived\", axis=1)\n",
    "Y_train = train_df_2[\"Survived\"]\n",
    "X_test  = test_df_2.drop(\"PassengerId\", axis=1).copy()\n",
    "\n",
    "logreg = LogisticRegression()\n",
    "logreg.fit(X_train, Y_train)\n",
    "\n",
    "Y_pred_logreg_2 = logreg.predict(X_test)\n",
    "\n",
    "acc_log = round(logreg.score(X_train, Y_train) * 100, 2)\n",
    "\n",
    "# KNN\n",
    "knn = KNeighborsClassifier(n_neighbors = 3)\n",
    "knn.fit(X_train, Y_train)\n",
    "\n",
    "Y_pred_knn_2 = knn.predict(X_test)\n",
    "acc_knn = round(knn.score(X_train, Y_train) * 100, 2)\n",
    "\n",
    "linear_svc = LinearSVC()\n",
    "linear_svc.fit(X_train, Y_train)\n",
    "\n",
    "Y_pred_svc_2 = linear_svc.predict(X_test)\n",
    "\n",
    "acc_linear_svc = round(linear_svc.score(X_train, Y_train) * 100, 2)"
   ]
  },
  {
   "cell_type": "code",
   "execution_count": 22,
   "id": "ff34d183",
   "metadata": {
    "execution": {
     "iopub.execute_input": "2023-01-17T04:05:02.581339Z",
     "iopub.status.busy": "2023-01-17T04:05:02.580575Z",
     "iopub.status.idle": "2023-01-17T04:05:02.595066Z",
     "shell.execute_reply": "2023-01-17T04:05:02.593781Z"
    },
    "papermill": {
     "duration": 0.030647,
     "end_time": "2023-01-17T04:05:02.597536",
     "exception": false,
     "start_time": "2023-01-17T04:05:02.566889",
     "status": "completed"
    },
    "tags": []
   },
   "outputs": [
    {
     "data": {
      "text/html": [
       "<div>\n",
       "<style scoped>\n",
       "    .dataframe tbody tr th:only-of-type {\n",
       "        vertical-align: middle;\n",
       "    }\n",
       "\n",
       "    .dataframe tbody tr th {\n",
       "        vertical-align: top;\n",
       "    }\n",
       "\n",
       "    .dataframe thead th {\n",
       "        text-align: right;\n",
       "    }\n",
       "</style>\n",
       "<table border=\"1\" class=\"dataframe\">\n",
       "  <thead>\n",
       "    <tr style=\"text-align: right;\">\n",
       "      <th></th>\n",
       "      <th>Model</th>\n",
       "    </tr>\n",
       "    <tr>\n",
       "      <th>Score</th>\n",
       "      <th></th>\n",
       "    </tr>\n",
       "  </thead>\n",
       "  <tbody>\n",
       "    <tr>\n",
       "      <th>85.53</th>\n",
       "      <td>KNN</td>\n",
       "    </tr>\n",
       "    <tr>\n",
       "      <th>80.20</th>\n",
       "      <td>Logistic Regression</td>\n",
       "    </tr>\n",
       "    <tr>\n",
       "      <th>78.93</th>\n",
       "      <td>Support Vector Machine</td>\n",
       "    </tr>\n",
       "  </tbody>\n",
       "</table>\n",
       "</div>"
      ],
      "text/plain": [
       "                        Model\n",
       "Score                        \n",
       "85.53                     KNN\n",
       "80.20     Logistic Regression\n",
       "78.93  Support Vector Machine"
      ]
     },
     "execution_count": 22,
     "metadata": {},
     "output_type": "execute_result"
    }
   ],
   "source": [
    "results = pd.DataFrame({\n",
    "    'Model': ['Logistic Regression', 'Support Vector Machine', 'KNN'],\n",
    "    'Score': [acc_log, acc_linear_svc, acc_knn]})\n",
    "result_df = results.sort_values(by='Score', ascending=False)\n",
    "result_df = result_df.set_index('Score')\n",
    "result_df.head()"
   ]
  },
  {
   "cell_type": "markdown",
   "id": "2724d8d3",
   "metadata": {
    "papermill": {
     "duration": 0.01226,
     "end_time": "2023-01-17T04:05:02.622497",
     "exception": false,
     "start_time": "2023-01-17T04:05:02.610237",
     "status": "completed"
    },
    "tags": []
   },
   "source": [
    "<!-- ## Iteration 3, one hot encode columns\n",
    "Since dictionary mapping numeric value doesn't make too much sense with linear fitting, e.g. 3 is not 50% more likely to survive than 2 -->"
   ]
  },
  {
   "cell_type": "code",
   "execution_count": 23,
   "id": "e4299060",
   "metadata": {
    "execution": {
     "iopub.execute_input": "2023-01-17T04:05:02.649947Z",
     "iopub.status.busy": "2023-01-17T04:05:02.648684Z",
     "iopub.status.idle": "2023-01-17T04:05:02.655241Z",
     "shell.execute_reply": "2023-01-17T04:05:02.654061Z"
    },
    "papermill": {
     "duration": 0.022973,
     "end_time": "2023-01-17T04:05:02.657870",
     "exception": false,
     "start_time": "2023-01-17T04:05:02.634897",
     "status": "completed"
    },
    "tags": []
   },
   "outputs": [],
   "source": [
    "# # Iteration 3\n",
    "# # one hot encode\n",
    "# # Columns:\n",
    "# # Pclass\n",
    "# # Sex\n",
    "# # Age\n",
    "# # SibSp\n",
    "# # Parch\n",
    "# # Fare\n",
    "# train_df_3 = train_df.copy()\n",
    "# test_df_3 = test_df.copy()\n",
    "\n",
    "# data = [train_df_3, test_df_3]\n",
    "# ohe = preprocessing.OneHotEncoder()\n",
    "\n",
    "# def assign_ohe(dataset, arr, column):\n",
    "#     for i in range(len(dataset[column])):\n",
    "#         dataset[column][i] = arr[i]\n",
    "\n",
    "# for dataset in data:\n",
    "#     arr = ohe.fit_transform(dataset[['Sex']]).toarray()\n",
    "#     assign_ohe(dataset, arr, 'Sex')\n",
    "\n",
    "# for dataset in data:\n",
    "#     dataset['Fare'] = dataset['Fare'].fillna(0)\n",
    "#     dataset['Fare'] = pd.qcut(dataset['Fare'], q=5, labels=[0,1,2,3,4])\n",
    "#     arr = ohe.fit_transform(dataset[['Fare']]).toarray()\n",
    "#     print(arr)\n",
    "#     assign_ohe(dataset, arr, 'Fare')\n",
    "    \n",
    "# for dataset in data:\n",
    "#     dataset['Age'] = dataset['Age'].fillna(0)\n",
    "#     dataset['Age'] = pd.cut(dataset['Age'], bins=[-1, 0, 21, 27, 39, 100], labels=[0, 1, 2, 3, 4], retbins=False)\n",
    "#     arr = ohe.fit_transform(dataset[['Age']]).toarray()\n",
    "# #     assign_ohe(dataset, arr, 'Age')\n",
    "    \n",
    "# train_df_3.head(20)"
   ]
  },
  {
   "cell_type": "code",
   "execution_count": 24,
   "id": "7b5dc97e",
   "metadata": {
    "execution": {
     "iopub.execute_input": "2023-01-17T04:05:02.685168Z",
     "iopub.status.busy": "2023-01-17T04:05:02.684780Z",
     "iopub.status.idle": "2023-01-17T04:05:03.780534Z",
     "shell.execute_reply": "2023-01-17T04:05:03.778920Z"
    },
    "papermill": {
     "duration": 1.112802,
     "end_time": "2023-01-17T04:05:03.783403",
     "exception": false,
     "start_time": "2023-01-17T04:05:02.670601",
     "status": "completed"
    },
    "tags": []
   },
   "outputs": [
    {
     "name": "stdout",
     "output_type": "stream",
     "text": [
      "PassengerId,Survived\r\n",
      "892,0\r\n",
      "893,0\r\n",
      "894,0\r\n",
      "895,0\r\n",
      "896,1\r\n",
      "897,0\r\n",
      "898,0\r\n",
      "899,1\r\n",
      "900,1\r\n"
     ]
    }
   ],
   "source": [
    "np.savetxt(\n",
    "    'submission.csv',\n",
    "    np.rec.fromarrays([test_df_original['PassengerId'], Y_pred_knn_2]),\n",
    "    fmt=['%s', '%d'],\n",
    "    delimiter=',',\n",
    "    header='PassengerId,Survived',\n",
    "    comments='',\n",
    ")\n",
    "!head submission.csv"
   ]
  },
  {
   "cell_type": "code",
   "execution_count": null,
   "id": "c9e993cb",
   "metadata": {
    "papermill": {
     "duration": 0.012447,
     "end_time": "2023-01-17T04:05:03.808636",
     "exception": false,
     "start_time": "2023-01-17T04:05:03.796189",
     "status": "completed"
    },
    "tags": []
   },
   "outputs": [],
   "source": []
  }
 ],
 "metadata": {
  "kernelspec": {
   "display_name": "Python 3",
   "language": "python",
   "name": "python3"
  },
  "language_info": {
   "codemirror_mode": {
    "name": "ipython",
    "version": 3
   },
   "file_extension": ".py",
   "mimetype": "text/x-python",
   "name": "python",
   "nbconvert_exporter": "python",
   "pygments_lexer": "ipython3",
   "version": "3.7.12"
  },
  "papermill": {
   "default_parameters": {},
   "duration": 16.902144,
   "end_time": "2023-01-17T04:05:04.744625",
   "environment_variables": {},
   "exception": null,
   "input_path": "__notebook__.ipynb",
   "output_path": "__notebook__.ipynb",
   "parameters": {},
   "start_time": "2023-01-17T04:04:47.842481",
   "version": "2.3.4"
  }
 },
 "nbformat": 4,
 "nbformat_minor": 5
}
